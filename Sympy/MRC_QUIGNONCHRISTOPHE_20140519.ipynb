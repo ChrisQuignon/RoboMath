{
 "metadata": {
  "name": ""
 },
 "nbformat": 3,
 "nbformat_minor": 0,
 "worksheets": [
  {
   "cells": [
    {
     "cell_type": "markdown",
     "metadata": {},
     "source": [
      "<style type=\"text/css\">\n",
      ".time_spent {\n",
      "    width: 3em;\n",
      "    border-style: none;\n",
      "    background-color: silver;\n",
      "    font-weight: bold;\n",
      "    padding-left: 5px;\n",
      "}\n",
      "</style>"
     ]
    },
    {
     "cell_type": "heading",
     "level": 1,
     "metadata": {},
     "source": [
      "Mathematics for Robotics and Control - Assignment 7: Ordinary Differential Equations"
     ]
    },
    {
     "cell_type": "markdown",
     "metadata": {},
     "source": [
      "For this assignment, you will be working with symbolic mathematics using the SymPy package for Python. In order to be able to work with the package efficiently, please familiarize yourself with SymPy by working through the tutorial:\n",
      "\n",
      "[SymPy Tutorial](http://docs.sympy.org/dev/tutorial/tutorial.en.html#tutorial)\n",
      "        \n",
      "Also, make sure you know how SymPy differes from other CAS like Maple or Mathematica, which you may be familiar with. This information is detailed in the following document:\n",
      "    \n",
      "[SymPy Gotchas](http://docs.sympy.org/dev/gotchas.html)\n",
      "        \n",
      "There is also an FAQ:\n",
      "    \n",
      "[SymPy FAQ](https://github.com/sympy/sympy/wiki/Faq)\n"
     ]
    },
    {
     "cell_type": "markdown",
     "metadata": {},
     "source": [
      "Also, be sure to read the documentation/help on SymPy's ODE module. Simply evaluate the code in the next cell to obtain said documentation. Note that using ? allows you to obtain help on any function, module etc. when used in IPython."
     ]
    },
    {
     "cell_type": "code",
     "collapsed": false,
     "input": [
      "from sympy import *\n",
      "#import sympy\n",
      "#?sympy.ode"
     ],
     "language": "python",
     "metadata": {},
     "outputs": [],
     "prompt_number": 2
    },
    {
     "cell_type": "markdown",
     "metadata": {},
     "source": [
      "Let us now start the assignment by examining some differential equations. First, have a look at the following quick example below to see how to enter code into the IPython notebook and how to work with SymPy."
     ]
    },
    {
     "cell_type": "code",
     "collapsed": false,
     "input": [
      "# Enable pretty printing\n",
      "#sympy.\n",
      "init_printing(use_latex=True)\n",
      "init_printing(use_unicode=True)\n",
      "#Sorry, no time for latex..."
     ],
     "language": "python",
     "metadata": {},
     "outputs": [],
     "prompt_number": 3
    },
    {
     "cell_type": "code",
     "collapsed": false,
     "input": [
      "# Declare a symbolic variable x. Note that the x on the left side of the assignment is the Python variable name,\n",
      "# while the \"x\" on the right hand side denotes the symbol name. It makes a lot of sense to keep those names the same.\n",
      "x = Symbol(\"x\")\n",
      "# y is a function of x, i.e. y(x)\n",
      "y = Function(\"y\")(x)\n",
      "# We use y_ to denote y'(x), i.e. the first derivative of y w.r.t. x\n",
      "y_ = Derivative(y, x)\n",
      "# ...an alternative way of writing this would be:\n",
      "y_ = y.diff(x)\n",
      "\n",
      "# Now let's examine a differential equation\n",
      "#\n",
      "#                x   d       \n",
      "# y(x)\u22c5sin(x) + \u212f  = \u2500\u2500(y(x))\n",
      "#                    dx      \n",
      "# \n",
      "eq1 = y * sin(x) + exp(x) - y_\n",
      "\n",
      "# We now determine a solution for this differential equation\n",
      "pprint(dsolve(eq1))"
     ],
     "language": "python",
     "metadata": {},
     "outputs": [
      {
       "output_type": "stream",
       "stream": "stdout",
       "text": [
        "\u2320                                   \n",
        "\u23ae \u239b               x\u239e  cos(x)        \n",
        "\u23ae \u239dy(x)\u22c5sin(x) + \u212f \u23a0\u22c5\u212f       dx = C\u2081\n",
        "\u2321                                   \n"
       ]
      }
     ],
     "prompt_number": 7
    },
    {
     "cell_type": "markdown",
     "metadata": {},
     "source": [
      "For your first assignment, solve the following three ODEs *by hand* and verify your results via SymPy. Please include the steps of your solutions in the input cell below using TeX syntax. You can find an introduction to mathematical expressions in LaTeX [here](http://en.wikibooks.org/wiki/LaTeX/Mathematics). In order for the IPython notebook to evaluate your mathematical expressions, enclose them in \\$, i.e.\n",
      "\n",
      "    $ \\sum_{i=1}^{10} t_i $ \n",
      "\n",
      "will display the following expression: $\\sum_{i=1}^{10} t_i$"
     ]
    },
    {
     "cell_type": "markdown",
     "metadata": {},
     "source": [
      "---"
     ]
    },
    {
     "cell_type": "heading",
     "level": 4,
     "metadata": {},
     "source": [
      "Assignment 7.1: Solve the following ordinary differential equations by hand and verify your results using SymPy."
     ]
    },
    {
     "cell_type": "markdown",
     "metadata": {},
     "source": [
      "Equation 1.1: $y^\\prime = 5 \\cdot y$"
     ]
    },
    {
     "cell_type": "markdown",
     "metadata": {},
     "source": [
      "$\\ln (y) = 5x+c$\n",
      "\n",
      "$e^{5x}$"
     ]
    },
    {
     "cell_type": "code",
     "collapsed": false,
     "input": [
      "# Insert code to verify your solution for Equation 1.1 here and evaluate it\n",
      "x = Symbol('x')\n",
      "y = Function('y')(x)\n",
      "y_dash = Derivative(y, x)\n",
      "ode1 = Eq(y_dash, 5*y)\n",
      "pprint(ode1)\n",
      "\n",
      "x = Symbol('x')\n",
      "y = Function('y')(x)\n",
      "c = Symbol('c')\n",
      "#My solution:\n",
      "integration = exp(5*x)\n",
      "s = Eq(y, integration)\n",
      "pprint(s)\n",
      "\n",
      "checkodesol(ode1, s)"
     ],
     "language": "python",
     "metadata": {},
     "outputs": [
      {
       "output_type": "stream",
       "stream": "stdout",
       "text": [
        "d                \n",
        "\u2500\u2500(y(x)) = 5\u22c5y(x)\n",
        "dx               \n",
        "        5\u22c5x\n",
        "y(x) = \u212f   \n"
       ]
      },
      {
       "metadata": {},
       "output_type": "pyout",
       "prompt_number": 8,
       "text": [
        "(True, 0)"
       ]
      }
     ],
     "prompt_number": 8
    },
    {
     "cell_type": "markdown",
     "metadata": {},
     "source": [
      "Equation 1.2: $\\frac{\\mathrm d y}{\\mathrm d x} = -2 \\cdot x \\cdot y$"
     ]
    },
    {
     "cell_type": "markdown",
     "metadata": {},
     "source": [
      "$\\ln(y) = -x^{2+c}$\n",
      "\n",
      "\n",
      "$c * e^{-x^{2}}$"
     ]
    },
    {
     "cell_type": "code",
     "collapsed": false,
     "input": [
      "# Insert code to verify your solution for Equation 1.2 here and evaluate it\n",
      "x = Symbol('x')\n",
      "y = Function('y')(x)\n",
      "dydx = Derivative(y, x)\n",
      "\n",
      "ode2 = Eq(dydx, -2*x*y)\n",
      "\n",
      "c = Symbol('c')\n",
      "#My solution:\n",
      "integration = c*exp(-(x**2))\n",
      "s = Eq(y, integration)\n",
      "pprint(s)\n",
      "\n",
      "checkodesol(ode2, s)"
     ],
     "language": "python",
     "metadata": {},
     "outputs": [
      {
       "output_type": "stream",
       "stream": "stdout",
       "text": [
        "            2\n",
        "          -x \n",
        "y(x) = c\u22c5\u212f   \n"
       ]
      },
      {
       "metadata": {},
       "output_type": "pyout",
       "prompt_number": 9,
       "text": [
        "(True, 0)"
       ]
      }
     ],
     "prompt_number": 9
    },
    {
     "cell_type": "markdown",
     "metadata": {},
     "source": [
      "Equation 1.3: $\\frac{\\mathrm d y}{\\mathrm d t} = y^2$"
     ]
    },
    {
     "cell_type": "markdown",
     "metadata": {},
     "source": [
      "$1/y = t * c$\n",
      "\n",
      "$y = -1/(c+t)$\n"
     ]
    },
    {
     "cell_type": "code",
     "collapsed": false,
     "input": [
      "# Insert code to verify your solution for Equation 1.3 here and evaluate it\n",
      "t = Symbol('t')\n",
      "y = Function('y')(t)\n",
      "dydx = Derivative(y, t)\n",
      "ode3 = Eq(dydx, y**2)\n",
      "\n",
      "c = Symbol('c')\n",
      "#My solution:\n",
      "s = Eq(y, -1/(c+t))\n",
      "pprint(s)\n",
      "\n",
      "checkodesol(ode3, s)"
     ],
     "language": "python",
     "metadata": {},
     "outputs": [
      {
       "output_type": "stream",
       "stream": "stdout",
       "text": [
        "        -1  \n",
        "y(t) = \u2500\u2500\u2500\u2500\u2500\n",
        "       c + t\n"
       ]
      },
      {
       "metadata": {},
       "output_type": "pyout",
       "prompt_number": 10,
       "text": [
        "(True, 0)"
       ]
      }
     ],
     "prompt_number": 10
    },
    {
     "cell_type": "markdown",
     "metadata": {},
     "source": [
      "*Assignment 7.1 took me* <input class=\"time_spent\" name=\"ex71_time_spent\" /> *minutes.*"
     ]
    },
    {
     "cell_type": "markdown",
     "metadata": {},
     "source": [
      "---"
     ]
    },
    {
     "cell_type": "heading",
     "level": 4,
     "metadata": {},
     "source": [
      "Assignment 7.2: Determine if the following equations are linear and insert your solutions below."
     ]
    },
    {
     "cell_type": "markdown",
     "metadata": {},
     "source": [
      " *Note: simply stating that an equation is linear or not is not sufficient, please provide arguments/proof as to why this is the case.*"
     ]
    },
    {
     "cell_type": "markdown",
     "metadata": {},
     "source": [
      "1. $y^\\prime = sin(x) \\cdot y + e^x$\n",
      "2. $y^\\prime + x \\cdot y = e^x \\cdot y$\n",
      "3. $y^\\prime + \\frac{x}{y} = 0$\n",
      "4. $x \\cdot y^\\prime + y = \\sqrt{y}$"
     ]
    },
    {
     "cell_type": "code",
     "collapsed": false,
     "input": [
      "#1. is a linear function becaus its highest power is 1\n",
      "#2. is a linear function becaus its highest power is 1\n",
      "#3. is not a linear function because it is not a function. (Circle)\n",
      "#4. is not linear because it has no solution at x = 0"
     ],
     "language": "python",
     "metadata": {},
     "outputs": []
    },
    {
     "cell_type": "markdown",
     "metadata": {},
     "source": [
      "*Assignment 7.2 took me* <input class=\"time_spent\" name=\"ex72_time_spent\" /> *minutes.*"
     ]
    },
    {
     "cell_type": "markdown",
     "metadata": {},
     "source": [
      "---"
     ]
    },
    {
     "cell_type": "heading",
     "level": 4,
     "metadata": {},
     "source": [
      "Assignment 7.3: Solve the following ordinary differential equations and specify an integrating factor. Insert your solutions below."
     ]
    },
    {
     "cell_type": "markdown",
     "metadata": {},
     "source": [
      "[Wikipedia: Integrating Factor](http://en.wikipedia.org/wiki/Integrating_factor)\n",
      "\n",
      "[Tutorial on how to use the integrating factor method to solve ODEs](http://www.cse.salford.ac.uk/profiles/gsmcdonald/H-Tutorials/ordinary-differential-equations-integrating-factor.pdf) (PDF)"
     ]
    },
    {
     "cell_type": "markdown",
     "metadata": {},
     "source": [
      "1. $y^\\prime -3 \\cdot y = 6$\n",
      "2. $y^\\prime + \\frac{4}{x} \\cdot y = x^4$"
     ]
    },
    {
     "cell_type": "code",
     "collapsed": false,
     "input": [
      "#1.\n",
      "\n",
      "x = Symbol('x')\n",
      "y = Function('y')(x)\n",
      "dydx = Derivative(y, x)\n",
      "\n",
      "P = Function('P')(x)\n",
      "Q = Function('Q')(x)\n",
      "\n",
      "# y' -3y = 6\n",
      "#  -> P(x) = -3y\n",
      "#     Q(x) = 6\n",
      "\n",
      "P = -3\n",
      "Q = 6\n",
      "\n",
      "# \n",
      "# IF: e^(-3x)\n",
      "\n",
      "IF = exp(integrate(P, x))\n",
      "\n",
      "# \n",
      "# Multiply with IF\n",
      "#     (y' -3y) * e^(-3x) = 6e^(-3x)\n",
      "# e^(-3x)  - 3e^()-x3)*y = 6e^(-3x)\n",
      "#       y'(e(-3x)*y -3 ) = 6e^(-3x)\n",
      "\n",
      "left  = IF * (dydx + P * y )\n",
      "right = Q * IF\n",
      "\n",
      "# \n",
      "# Integrate:\n",
      "#         e^(-3x) - 3x = 6e^(-3x)\n",
      "# 6*((e^(-3x))/(-3))*C = -2e^(-3x) + C\n",
      "#             e^(-3x)y = 3-2e^(-3x)-+C\n",
      "#                    y = (3-C)*-2e^(-3x)\n",
      "#\n",
      "\n",
      "left  = integrate(left)\n",
      "right = integrate(right)\n",
      "\n",
      "s = Eq(left, right)\n",
      "pprint(s)"
     ],
     "language": "python",
     "metadata": {},
     "outputs": [
      {
       "output_type": "stream",
       "stream": "stdout",
       "text": [
        "      -3\u22c5x       -3\u22c5x\n",
        "y(x)\u22c5\u212f     = -2\u22c5\u212f    \n"
       ]
      }
     ],
     "prompt_number": 11
    },
    {
     "cell_type": "code",
     "collapsed": false,
     "input": [
      "# 2.\n",
      "x = Symbol('x')\n",
      "y = Function('y')(x)\n",
      "dydx = Derivative(y, x)\n",
      "\n",
      "P = Function('P')(x)\n",
      "Q = Function('Q')(x)\n",
      "\n",
      "# y' + 4/x * y = x^4\n",
      "#  -> P(x) = 4/x\n",
      "#  -> Q(x) = x^4\n",
      "\n",
      "P = 4/ x\n",
      "Q = x ** 4\n",
      "\n",
      "# IF: x^4\n",
      "\n",
      "IF = exp(integrate(P, x))\n",
      "\n",
      "# \n",
      "# Multiply with IF:\n",
      "#    x^4 * (y' +4/x * y) = x^4 * x^4\n",
      "#       x^3 * (y' +4y/x) = x^4 * x^4\n",
      "#          x^3(y*x + 4y) = x^8\n",
      "#            y'(xy + 4y) = x^5\n",
      "\n",
      "left  = IF * (dydx + P * y )\n",
      "right = Q * IF\n",
      "\n",
      "# \n",
      "# Integrate:\n",
      "# \n",
      "# y'(xy + 4y) = x^5\n",
      "#     x^4 * y = 1/9 x^9 + C\n",
      "#           y = x^5  / 9 + C\n",
      "\n",
      "left  = integrate(left)\n",
      "right = integrate(right)\n",
      "\n",
      "s = Eq(left, right)\n",
      "pprint(s)"
     ],
     "language": "python",
     "metadata": {},
     "outputs": [
      {
       "output_type": "stream",
       "stream": "stdout",
       "text": [
        "           9\n",
        " 4        x \n",
        "x \u22c5y(x) = \u2500\u2500\n",
        "          9 \n"
       ]
      }
     ],
     "prompt_number": 8
    },
    {
     "cell_type": "markdown",
     "metadata": {},
     "source": [
      "*Assignment 7.3 took me* <input class=\"time_spent\" name=\"ex73_time_spent\" /> *minutes.*"
     ]
    },
    {
     "cell_type": "markdown",
     "metadata": {},
     "source": [
      "---"
     ]
    },
    {
     "cell_type": "heading",
     "level": 4,
     "metadata": {},
     "source": [
      "Assignment 7.4: Solve the following differental equations"
     ]
    },
    {
     "cell_type": "markdown",
     "metadata": {},
     "source": [
      "Remember that a second order differential equation $y^{\\prime \\prime} + a_1 \\cdot y^\\prime + a_0 \\cdot y = 0$ with constants $a_{0, 1}$ corresponds to the characteristic equation $\\lambda^2 + a_1 \\cdot \\lambda + a_0 = 0$, which can be factored into $(\\lambda - \\lambda_1) \\cdot (\\lambda - \\lambda_2) = 0$. This is useful since the general solution of $y^{\\prime \\prime} + a_1 \\cdot y^\\prime + a_0 \\cdot y = 0$ can be obtained directly by determining the roots $\\lambda_1$ and $\\lambda_2$ if the coefficients are constant and the differential equation is linear. Determine the roots of the following differential equations and specify their solutions. See the Wikipedia article on the [characteristic equation](http://en.wikipedia.org/wiki/Characteristic_equation_(calculus)) for the three distinctive cases that determine how to obtain the solution based on what the roots are.\n",
      "\n",
      "Insert your solutions below and include code to proof your solutions are correct. Hint: use the sympy.ode.checkodesol function to validate your results."
     ]
    },
    {
     "cell_type": "markdown",
     "metadata": {},
     "source": [
      "1. $y^{\\prime \\prime} - y^\\prime - 2 \\cdot y = 0$\n",
      "2. $y^{\\prime \\prime} - 3 \\cdot y^\\prime + 4 \\cdot y = 0$\n",
      "3. $y^{\\prime \\prime} + 4 \\cdot y = 0$"
     ]
    },
    {
     "cell_type": "code",
     "collapsed": false,
     "input": [
      "#1.\n",
      "#r^2 -1r -2 = 0\n",
      "#(r +1)(r -2) = 0\n",
      "\n",
      "#->\n",
      "#r_1 = -1\n",
      "#r_2 = +2\n",
      "\n",
      "#    y(t) =   C_1 e^(-1t) +  C_2e^(2t)\n",
      "#y^(t)(t) = -1C_1 e^(-1t) + 2C_2\n",
      "\n",
      "#0 = y(0)     =   C_1 +  C_2\n",
      "#1 = y^(t)(0) = -1C_1 + 2C_2\n",
      "\n",
      "#C_1 = 1\n",
      "#C_2 = -1\n",
      "\n",
      "#->\n",
      "#y(t)= 1e^(-1t) -1e^(2t)\n",
      "\n",
      "t = Symbol('t')\n",
      "y = Function('y')(t)\n",
      "\n",
      "d = Derivative(Derivative(y)) -Derivative(y)- 2*y         \n",
      "s = 1 *exp(-1*t) -1*exp(2*t)\n",
      "\n",
      "pprint(dsolve(Eq(s, d)))\n",
      "#looks similar to me"
     ],
     "language": "python",
     "metadata": {},
     "outputs": [
      {
       "output_type": "stream",
       "stream": "stdout",
       "text": [
        "       \u239b     t\u239e  -t   \u239b     t\u239e  2\u22c5t\n",
        "y(t) = \u239cC\u2081 - \u2500\u239f\u22c5\u212f   + \u239cC\u2082 - \u2500\u239f\u22c5\u212f   \n",
        "       \u239d     3\u23a0       \u239d     3\u23a0     \n"
       ]
      }
     ],
     "prompt_number": 14
    },
    {
     "cell_type": "code",
     "collapsed": false,
     "input": [
      "#2.\n",
      "#y^2 - 3y +4\n",
      "#(--3(+-)sqrt(-3^2 -4 *1*4))/(2*1) #quadratic equation\n",
      "\n",
      "#sqrt(5/4)\n",
      "\n",
      "#r1 = 3(+-)sqrt(9-16)\n",
      "#r2 = 11.5 (+-)sqrt(-5/4)i\n",
      "\n",
      "#Complex roots:\n",
      "#a = 1.5\n",
      "#b = 1.118\n",
      "\n",
      "#y=(c1 +c2)exp(1,5*t) cos(1.118t) + i(c1 -c2)exp(1.5t) sin(1.118t)\n",
      "\n",
      "t = Symbol('t')\n",
      "y = Function('y')(t)\n",
      "\n",
      "b = sqrt(5/4)\n",
      "\n",
      "c1, c2 = symbols('c1 c2')\n",
      "\n",
      "d = Derivative(Derivative(y)) -Derivative(3*y) + 4*y       \n",
      "s = (c1 + c2) * exp(1.5*t) * cos(b*t) + I*(c1 -c2)*exp(1.5*t) *sin(b*t)\n",
      "pprint(dsolve(Eq(s, d)))\n",
      "#looks similar to me..."
     ],
     "language": "python",
     "metadata": {},
     "outputs": [
      {
       "output_type": "stream",
       "stream": "stdout",
       "text": [
        "       \u239b                                                                      \n",
        "       \u239c                                                                      \n",
        "       \u239c      \u239b  ___  \u239e         \u239b  ___  \u239e   4\u22c5(\u2148\u22c5c\u2081\u22c5sin(t) + c\u2081\u22c5cos(t) - \u2148\u22c5c\u2082\u22c5\n",
        "       \u239c      \u239c\u2572\u2571 7 \u22c5t\u239f         \u239c\u2572\u2571 7 \u22c5t\u239f                                     \n",
        "y(t) = \u239cC\u2081\u22c5sin\u239c\u2500\u2500\u2500\u2500\u2500\u2500\u2500\u239f + C\u2082\u22c5cos\u239c\u2500\u2500\u2500\u2500\u2500\u2500\u2500\u239f + \u2500\u2500\u2500\u2500\u2500\u2500\u2500\u2500\u2500\u2500\u2500\u2500\u2500\u2500\u2500\u2500\u2500\u2500\u2500\u2500\u2500\u2500\u2500\u2500\u2500\u2500\u2500\u2500\u2500\u2500\u2500\u2500\u2500\u2500\n",
        "       \u239d      \u239d   2   \u23a0         \u239d   2   \u23a0                                    3\n",
        "\n",
        "                        \u239b  ___  \u239e                                             \n",
        "                       2\u239c\u2572\u2571 7 \u22c5t\u239f                                             \n",
        "sin(t) + c\u2082\u22c5cos(t))\u22c5sin \u239c\u2500\u2500\u2500\u2500\u2500\u2500\u2500\u239f   4\u22c5(\u2148\u22c5c\u2081\u22c5sin(t) + c\u2081\u22c5cos(t) - \u2148\u22c5c\u2082\u22c5sin(t) +\n",
        "                        \u239d   2   \u23a0                                             \n",
        "\u2500\u2500\u2500\u2500\u2500\u2500\u2500\u2500\u2500\u2500\u2500\u2500\u2500\u2500\u2500\u2500\u2500\u2500\u2500\u2500\u2500\u2500\u2500\u2500\u2500\u2500\u2500\u2500\u2500\u2500\u2500\u2500\u2500 + \u2500\u2500\u2500\u2500\u2500\u2500\u2500\u2500\u2500\u2500\u2500\u2500\u2500\u2500\u2500\u2500\u2500\u2500\u2500\u2500\u2500\u2500\u2500\u2500\u2500\u2500\u2500\u2500\u2500\u2500\u2500\u2500\u2500\u2500\u2500\u2500\u2500\u2500\u2500\u2500\u2500\u2500\n",
        "                                                                     3        \n",
        "\n",
        "                \u239b  ___  \u239e\u239e        \n",
        "               2\u239c\u2572\u2571 7 \u22c5t\u239f\u239f        \n",
        " c\u2082\u22c5cos(t))\u22c5cos \u239c\u2500\u2500\u2500\u2500\u2500\u2500\u2500\u239f\u239f     3/2\n",
        "                \u239d   2   \u23a0\u239f \u239b t\u239e   \n",
        "\u2500\u2500\u2500\u2500\u2500\u2500\u2500\u2500\u2500\u2500\u2500\u2500\u2500\u2500\u2500\u2500\u2500\u2500\u2500\u2500\u2500\u2500\u2500\u2500\u2500\u239f\u22c5\u239d\u212f \u23a0   \n",
        "                         \u23a0        \n"
       ]
      }
     ],
     "prompt_number": 15
    },
    {
     "cell_type": "code",
     "collapsed": false,
     "input": [
      "#3.\n",
      "#y^2  = -4\n",
      "\n",
      "#Complex roots:\n",
      "#a = 0\n",
      "#b = 2\n",
      "\n",
      "#y=(c1 +c2) cos(2t) + i(c1 -c2) sin(2t)\n",
      "\n",
      "##Proof\n",
      "\n",
      "t = Symbol('t')\n",
      "y = Function('y')(t)\n",
      "\n",
      "c1, c2 = symbols('c1 c2')\n",
      "\n",
      "d = Derivative(Derivative(y)) + 4*y       \n",
      "s = (c1 + c2)* cos(2*t) + I*(c1 -c2) *sin(2*t)\n",
      "\n",
      "pprint(dsolve(Eq(s, d)))\n",
      "#looks similar to me..."
     ],
     "language": "python",
     "metadata": {},
     "outputs": [
      {
       "output_type": "stream",
       "stream": "stdout",
       "text": [
        "                                       2                                      \n",
        "                     \u2148\u22c5t\u22c5(-c\u2081 + c\u2082)\u22c5sin (2\u22c5t)\u22c5cos(2\u22c5t)   (-2\u22c5\u2148\u22c5c\u2081\u22c5t + c\u2081 + 2\u22c5\u2148\n",
        "y(t) = C\u2082\u22c5cos(2\u22c5t) + \u2500\u2500\u2500\u2500\u2500\u2500\u2500\u2500\u2500\u2500\u2500\u2500\u2500\u2500\u2500\u2500\u2500\u2500\u2500\u2500\u2500\u2500\u2500\u2500\u2500\u2500\u2500\u2500\u2500\u2500\u2500\u2500\u2500 + \u2500\u2500\u2500\u2500\u2500\u2500\u2500\u2500\u2500\u2500\u2500\u2500\u2500\u2500\u2500\u2500\u2500\u2500\u2500\u2500\u2500\n",
        "                                     4                                       8\n",
        "\n",
        "               3                                                              \n",
        "\u22c5c\u2082\u22c5t + c\u2082)\u22c5cos (2\u22c5t)   \u239b       \u239bc\u2081   c\u2082\u239e   \u239bc\u2081   c\u2082\u239e            \u239b  \u2148\u22c5c\u2081   \u2148\u22c5c\n",
        "\u2500\u2500\u2500\u2500\u2500\u2500\u2500\u2500\u2500\u2500\u2500\u2500\u2500\u2500\u2500\u2500\u2500\u2500\u2500\u2500\u2500 + \u239cC\u2081 + t\u22c5\u239c\u2500\u2500 + \u2500\u2500\u239f + \u239c\u2500\u2500 + \u2500\u2500\u239f\u22c5sin(4\u22c5t) + \u239c- \u2500\u2500\u2500\u2500 + \u2500\u2500\u2500\n",
        "                        \u239d       \u239d4    4 \u23a0   \u239d16   16\u23a0            \u239d   16     16\n",
        "\n",
        "                                               \n",
        "\u2082\u239e            \u239b\u2148\u22c5c\u2081   \u2148\u22c5c\u2082\u239e    2     \u239e         \n",
        "\u2500\u239f\u22c5cos(4\u22c5t) + \u239c\u2500\u2500\u2500\u2500 - \u2500\u2500\u2500\u2500\u239f\u22c5cos (2\u22c5t)\u239f\u22c5sin(2\u22c5t)\n",
        " \u23a0            \u239d 8      8  \u23a0          \u23a0         \n"
       ]
      }
     ],
     "prompt_number": 9
    },
    {
     "cell_type": "markdown",
     "metadata": {},
     "source": [
      "*Assignment 7.4 took me* <input class=\"time_spent\" name=\"ex74_time_spent\" /> *minutes.*"
     ]
    },
    {
     "cell_type": "markdown",
     "metadata": {},
     "source": [
      "---"
     ]
    },
    {
     "cell_type": "markdown",
     "metadata": {},
     "source": [
      "<script type=\"text/javascript\">\n",
      "    function validTime(minutes) { \n",
      "        var numberIsSane = isFinite(parseInt(minutes, 10)) && (parseFloat(minutes, 10) == parseInt(minutes, 10)); \n",
      "        var numberInRange = ( (minutes >= 1) && (minutes < 60*24*7) );\n",
      "        return (numberIsSane && numberInRange);\n",
      "    }\n",
      "    function create_time_file() {\n",
      "        var kernel = IPython.notebook.kernel;\n",
      "        if (kernel) {\n",
      "            var studentName = $('#usrname').val();\n",
      "            var filename = 'MRC_' + encodeURIComponent(studentName.replace(' ', '_')) + '_20131121.txt'\n",
      "            var inputElements = $(':text.time_spent');\n",
      "            var timings = new Array();\n",
      "            if (inputElements) {\n",
      "                var allTimesAreValid = true;\n",
      "                var invalidTimeValue = null;\n",
      "                inputElements.each(function() {\n",
      "                    if (!validTime(this.value)) {\n",
      "                        allTimesAreValid = false;\n",
      "                        invalidTimeValue = this.value;\n",
      "                        return;\n",
      "                    }\n",
      "                    timings.push(this.value);\n",
      "                });\n",
      "                if (!allTimesAreValid) {\n",
      "                    alert('Unable to save assignment times, invalid time value <' + invalidTimeValue + '>');\n",
      "                    return;\n",
      "                }\n",
      "                if (!studentName) {\n",
      "                    alert('Please include your name in the submission');\n",
      "                    return;\n",
      "                }\n",
      "                if (confirm('Here are the timings I am going to save:\\n\\n' + timings.join(\" minutes\\n\") + ' minutes\\n\\nFilename: ' + filename + '\\n\\nDo you want me to continue?')) {\n",
      "                    var pyCode = [\n",
      "                        'with open(\"' + filename + '\", \"w\") as timings_file:',\n",
      "                        'print >>timings_file, \"NAME:\", \"' + studentName + '\"',\n",
      "                        'print >>timings_file, \"ASSIGNMENT TIMES:\"'\n",
      "                    ];\n",
      "                    timings.forEach(function(minutesTaken, assignmentIndex, arr) {\n",
      "                        pyCode.push('print >>timings_file, \"{0:03d}: {1:05d}\".format(' + assignmentIndex + ', ' + minutesTaken + ')');\n",
      "                    });\n",
      "                    kernel.execute(pyCode.join('\\n    '));\n",
      "                }\n",
      "            }\n",
      "        }\n",
      "        else {\n",
      "              alert('Unable to save, please manually create a file containing the times spent working on the assignments');\n",
      "        }\n",
      "    }\n",
      "</script>\n",
      "\n",
      "*Use this button to create a .txt file containing the time in minutes you spent working on the assignments. Make sure to include your name in the textbox below. The file will be created in the current directory.*\n",
      "\n",
      "\n",
      "Student's name:\n",
      "\n",
      "<input type=\"text\" id=\"usrname\" name=\"student_name\" />\n",
      "\n",
      "<input type=\"button\" onclick=\"javascript:create_time_file()\" value=\"Save timings\" />"
     ]
    }
   ],
   "metadata": {}
  }
 ]
}